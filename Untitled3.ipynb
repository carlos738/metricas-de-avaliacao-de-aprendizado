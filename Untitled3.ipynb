{
  "nbformat": 4,
  "nbformat_minor": 0,
  "metadata": {
    "colab": {
      "provenance": []
    },
    "kernelspec": {
      "name": "python3",
      "display_name": "Python 3"
    },
    "language_info": {
      "name": "python"
    }
  },
  "cells": [
    {
      "cell_type": "code",
      "execution_count": 3,
      "metadata": {
        "id": "a4YOg2FaoBbs"
      },
      "outputs": [],
      "source": [
        "import numpy as np\n",
        "import seaborn as sns\n",
        "import matplotlib.pyplot as plt\n",
        "from sklearn.metrics import confusion_matrix"
      ]
    },
    {
      "cell_type": "code",
      "source": [
        "# criando parâmetros para simulação de uma matriz de confusão\n",
        "num_classes = 12\n",
        "y_true = np.random.randint(num_classes, size=100)\n",
        "y_pred = np.random.randint(num_classes, size=100)\n",
        "accuracy_score = np.mean(y_true == y_pred)"
      ],
      "metadata": {
        "id": "4lIyUUa854WW"
      },
      "execution_count": 4,
      "outputs": []
    },
    {
      "cell_type": "code",
      "source": [
        "# Gerando y_true e y_pred\n",
        "y_true = np.random.randint(num_classes,size=100)\n",
        "y_pred = np.random.randint(num_classes,size=100)\n"
      ],
      "metadata": {
        "id": "TKZbVoqD6hP9"
      },
      "execution_count": 5,
      "outputs": []
    },
    {
      "cell_type": "code",
      "source": [
        "for true_label,predicted_label in zip(y_true,y_pred):\n",
        "  print(f\"True Label:{true_label} Predicted Label:{predicted_label}\");"
      ],
      "metadata": {
        "colab": {
          "base_uri": "https://localhost:8080/"
        },
        "id": "_qBWJAuY77HU",
        "outputId": "4b97b536-6116-4bfd-8d34-823d2b47d34e"
      },
      "execution_count": 6,
      "outputs": [
        {
          "output_type": "stream",
          "name": "stdout",
          "text": [
            "True Label:10 Predicted Label:0\n",
            "True Label:6 Predicted Label:9\n",
            "True Label:0 Predicted Label:10\n",
            "True Label:7 Predicted Label:3\n",
            "True Label:8 Predicted Label:1\n",
            "True Label:6 Predicted Label:1\n",
            "True Label:0 Predicted Label:10\n",
            "True Label:10 Predicted Label:9\n",
            "True Label:4 Predicted Label:3\n",
            "True Label:6 Predicted Label:9\n",
            "True Label:1 Predicted Label:2\n",
            "True Label:9 Predicted Label:11\n",
            "True Label:2 Predicted Label:0\n",
            "True Label:1 Predicted Label:5\n",
            "True Label:8 Predicted Label:6\n",
            "True Label:6 Predicted Label:3\n",
            "True Label:10 Predicted Label:2\n",
            "True Label:3 Predicted Label:0\n",
            "True Label:9 Predicted Label:8\n",
            "True Label:6 Predicted Label:0\n",
            "True Label:2 Predicted Label:2\n",
            "True Label:8 Predicted Label:1\n",
            "True Label:3 Predicted Label:3\n",
            "True Label:0 Predicted Label:3\n",
            "True Label:2 Predicted Label:1\n",
            "True Label:6 Predicted Label:2\n",
            "True Label:8 Predicted Label:2\n",
            "True Label:0 Predicted Label:8\n",
            "True Label:4 Predicted Label:6\n",
            "True Label:4 Predicted Label:0\n",
            "True Label:6 Predicted Label:6\n",
            "True Label:0 Predicted Label:7\n",
            "True Label:0 Predicted Label:3\n",
            "True Label:10 Predicted Label:5\n",
            "True Label:8 Predicted Label:9\n",
            "True Label:0 Predicted Label:6\n",
            "True Label:6 Predicted Label:1\n",
            "True Label:8 Predicted Label:3\n",
            "True Label:9 Predicted Label:0\n",
            "True Label:2 Predicted Label:8\n",
            "True Label:1 Predicted Label:7\n",
            "True Label:3 Predicted Label:1\n",
            "True Label:4 Predicted Label:3\n",
            "True Label:4 Predicted Label:9\n",
            "True Label:3 Predicted Label:8\n",
            "True Label:10 Predicted Label:9\n",
            "True Label:8 Predicted Label:10\n",
            "True Label:4 Predicted Label:1\n",
            "True Label:8 Predicted Label:5\n",
            "True Label:10 Predicted Label:4\n",
            "True Label:10 Predicted Label:7\n",
            "True Label:0 Predicted Label:0\n",
            "True Label:8 Predicted Label:6\n",
            "True Label:11 Predicted Label:3\n",
            "True Label:11 Predicted Label:5\n",
            "True Label:1 Predicted Label:8\n",
            "True Label:6 Predicted Label:11\n",
            "True Label:7 Predicted Label:7\n",
            "True Label:2 Predicted Label:7\n",
            "True Label:5 Predicted Label:5\n",
            "True Label:1 Predicted Label:8\n",
            "True Label:10 Predicted Label:5\n",
            "True Label:9 Predicted Label:0\n",
            "True Label:10 Predicted Label:10\n",
            "True Label:2 Predicted Label:5\n",
            "True Label:9 Predicted Label:0\n",
            "True Label:3 Predicted Label:1\n",
            "True Label:8 Predicted Label:5\n",
            "True Label:10 Predicted Label:0\n",
            "True Label:7 Predicted Label:5\n",
            "True Label:4 Predicted Label:11\n",
            "True Label:8 Predicted Label:6\n",
            "True Label:6 Predicted Label:5\n",
            "True Label:4 Predicted Label:1\n",
            "True Label:10 Predicted Label:8\n",
            "True Label:6 Predicted Label:6\n",
            "True Label:6 Predicted Label:3\n",
            "True Label:2 Predicted Label:8\n",
            "True Label:8 Predicted Label:3\n",
            "True Label:11 Predicted Label:0\n",
            "True Label:7 Predicted Label:9\n",
            "True Label:1 Predicted Label:3\n",
            "True Label:4 Predicted Label:8\n",
            "True Label:1 Predicted Label:11\n",
            "True Label:5 Predicted Label:9\n",
            "True Label:6 Predicted Label:7\n",
            "True Label:4 Predicted Label:4\n",
            "True Label:8 Predicted Label:11\n",
            "True Label:7 Predicted Label:11\n",
            "True Label:0 Predicted Label:4\n",
            "True Label:0 Predicted Label:6\n",
            "True Label:4 Predicted Label:4\n",
            "True Label:3 Predicted Label:2\n",
            "True Label:3 Predicted Label:0\n",
            "True Label:9 Predicted Label:6\n",
            "True Label:11 Predicted Label:1\n",
            "True Label:8 Predicted Label:9\n",
            "True Label:10 Predicted Label:5\n",
            "True Label:8 Predicted Label:10\n",
            "True Label:7 Predicted Label:7\n"
          ]
        }
      ]
    },
    {
      "cell_type": "code",
      "source": [
        "# predição correta\n",
        "correct_predictions = np.sum(y_true == y_pred)\n"
      ],
      "metadata": {
        "id": "6OeP_0jv2v4_"
      },
      "execution_count": 8,
      "outputs": []
    },
    {
      "cell_type": "code",
      "source": [
        "# Predição incorreta\n",
        "incorret_predictions = np.sum(y_true != y_pred)"
      ],
      "metadata": {
        "id": "I4K0kbOL3Srx"
      },
      "execution_count": 9,
      "outputs": []
    },
    {
      "cell_type": "code",
      "source": [
        "# gerar a matriz confusão\n",
        "confusion_matrix = confusion_matrix(y_true,y_pred)"
      ],
      "metadata": {
        "id": "M6L9uRZn4a0o"
      },
      "execution_count": 11,
      "outputs": []
    },
    {
      "cell_type": "code",
      "source": [
        "# plotar a matriz confusão\n",
        "plt.figure(figsize=(8,6))\n",
        "sns.heatmap(confusion_matrix,annot=True,fmt=\"d\",cmap=\"Blues\",cbar=False)\n",
        "plt.xlabel(\"Predicted Labels\")\n",
        "plt.ylabel(\"True Labels\")\n",
        "plt.title(\"Confusion Matrix\")\n",
        "plt.show()"
      ],
      "metadata": {
        "colab": {
          "base_uri": "https://localhost:8080/",
          "height": 538
        },
        "id": "zX_dfXtU4yHC",
        "outputId": "6577c968-d84e-44c4-ff3c-65bb12a9ff7c"
      },
      "execution_count": 13,
      "outputs": [
        {
          "output_type": "display_data",
          "data": {
            "text/plain": [
              "<Figure size 800x600 with 1 Axes>"
            ],
            "image/png": "[encoded data removed]"
          },
          "metadata": {}
        }
      ]
    },
    {
      "cell_type": "code",
      "source": [
        "# sensibilidade\n",
        "sensitivity = np.diag(confusion_matrix) / np.sum(confusion_matrix,axis=1)\n",
        "\n"
      ],
      "metadata": {
        "id": "vhGy-lNS6JXW"
      },
      "execution_count": 15,
      "outputs": []
    },
    {
      "cell_type": "code",
      "source": [
        "# Calcular a especificidade para cada classe\n",
        "# Especificidade = TN / (TN + FP)\n",
        "specificity = np.diag(confusion_matrix) / np.sum(confusion_matrix, axis=0)\n",
        "\n",
        "\n",
        "\n",
        "\n"
      ],
      "metadata": {
        "id": "2u-INUnN9V9M"
      },
      "execution_count": 19,
      "outputs": []
    },
    {
      "cell_type": "code",
      "source": [
        "# TN: \"True Negatives\" (Soma de todos os elementos, excluindo a linha e coluna da classe)\n",
        "tn = np.sum(confusion_matrix) - np.diag(confusion_matrix) -np.sum(confusion_matrix,axis=0) - np.sum(confusion_matrix,axis=1)\n",
        "print(tn)\n",
        "\n",
        "\n"
      ],
      "metadata": {
        "colab": {
          "base_uri": "https://localhost:8080/"
        },
        "id": "4rWjW3UwAVqz",
        "outputId": "1652a863-2dce-41e1-88e0-56ed9c683fb3"
      },
      "execution_count": 23,
      "outputs": [
        {
          "output_type": "stream",
          "name": "stdout",
          "text": [
            "[77 83 86 80 83 86 76 85 76 85 82 90]\n"
          ]
        }
      ]
    },
    {
      "cell_type": "code",
      "source": [
        "# FP: \"False Positives\" (Soma da coluna da classe, exluindo o elemento da diagonal)\n",
        "fp = np.sum(confusion_matrix,axis=0) - np.diag(confusion_matrix)\n",
        "print(fp)\n"
      ],
      "metadata": {
        "colab": {
          "base_uri": "https://localhost:8080/"
        },
        "id": "P3foOfVTBlfE",
        "outputId": "034d95e1-9510-4b7a-d6f2-0e4ff3ad3463"
      },
      "execution_count": 22,
      "outputs": [
        {
          "output_type": "stream",
          "name": "stdout",
          "text": [
            "[11 10  5 11  2 10  7  5  9  9  4  6]\n"
          ]
        }
      ]
    },
    {
      "cell_type": "code",
      "source": [
        "# calculo de acuracidade\n",
        "accuracy = np.mean(np.diag(confusion_matrix) / np.sum(confusion_matrix, axis=1))\n",
        "print(accuracy)"
      ],
      "metadata": {
        "colab": {
          "base_uri": "https://localhost:8080/"
        },
        "id": "SXUgUE5rFim8",
        "outputId": "6c329bb6-460a-4fa7-9534-427bb291476f"
      },
      "execution_count": 24,
      "outputs": [
        {
          "output_type": "stream",
          "name": "stdout",
          "text": [
            "0.136503774003774\n"
          ]
        }
      ]
    },
    {
      "cell_type": "code",
      "source": [
        "# Função para calcular a precisão manual\n",
        "def claculate_precision(confusion_matrix,class_label):\n",
        "  col = confusion_matrix[:,class_label]\n",
        "  return confusion_matrix[class_label,class_label] / col.sum()\n",
        "  print(col)\n",
        "\n"
      ],
      "metadata": {
        "id": "0WEHAtVpGVBg"
      },
      "execution_count": 26,
      "outputs": []
    },
    {
      "cell_type": "code",
      "source": [
        "# Calcula o F-score para cada classe\n",
        "f_scores = []\n",
        "for i in range(num_classes):\n",
        "  precision = claculate_precision(confusion_matrix,1)\n",
        "  recall = sensitivity[i]\n",
        "  f1_score = 2 * (precision * recall) / (precision + recall)\n",
        "  f_scores.append(f1_score)\n",
        "  print(f\"Class {i}: Precision={precision:.4f}, Recall={recall:.4f}, F1-Score={f1_score:.4f}\")\n",
        "\n"
      ],
      "metadata": {
        "colab": {
          "base_uri": "https://localhost:8080/"
        },
        "id": "Udk453HTHUM6",
        "outputId": "7c556fdc-69ab-4edd-8139-2fa32788597e"
      },
      "execution_count": 30,
      "outputs": [
        {
          "output_type": "stream",
          "name": "stdout",
          "text": [
            "Class 0: Precision=0.0000, Recall=0.1000, F1-Score=0.0000\n",
            "Class 1: Precision=0.0000, Recall=0.0000, F1-Score=nan\n",
            "Class 2: Precision=0.0000, Recall=0.1429, F1-Score=0.0000\n",
            "Class 3: Precision=0.0000, Recall=0.1429, F1-Score=0.0000\n",
            "Class 4: Precision=0.0000, Recall=0.1818, F1-Score=0.0000\n",
            "Class 5: Precision=0.0000, Recall=0.5000, F1-Score=0.0000\n",
            "Class 6: Precision=0.0000, Recall=0.1538, F1-Score=0.0000\n",
            "Class 7: Precision=0.0000, Recall=0.3333, F1-Score=0.0000\n",
            "Class 8: Precision=0.0000, Recall=0.0000, F1-Score=nan\n",
            "Class 9: Precision=0.0000, Recall=0.0000, F1-Score=nan\n",
            "Class 10: Precision=0.0000, Recall=0.0833, F1-Score=0.0000\n",
            "Class 11: Precision=0.0000, Recall=0.0000, F1-Score=nan\n"
          ]
        },
        {
          "output_type": "stream",
          "name": "stderr",
          "text": [
            "<ipython-input-30-514dbae13849>:6: RuntimeWarning: invalid value encountered in scalar divide\n",
            "  f1_score = 2 * (precision * recall) / (precision + recall)\n"
          ]
        }
      ]
    },
    {
      "cell_type": "code",
      "source": [
        "# F-score formula\n",
        "f_score = 2 *(precision * recall) / (precision + recall)\n",
        "print(f_score)"
      ],
      "metadata": {
        "colab": {
          "base_uri": "https://localhost:8080/"
        },
        "id": "bd3CpH21NrT9",
        "outputId": "a8bab6ed-e844-4454-94ac-ba32ded6bef1"
      },
      "execution_count": 35,
      "outputs": [
        {
          "output_type": "stream",
          "name": "stdout",
          "text": [
            "nan\n"
          ]
        },
        {
          "output_type": "stream",
          "name": "stderr",
          "text": [
            "<ipython-input-35-017edb983e7e>:2: RuntimeWarning: invalid value encountered in scalar divide\n",
            "  f_score = 2 *(precision * recall) / (precision + recall)\n"
          ]
        }
      ]
    },
    {
      "cell_type": "code",
      "source": [
        "# gerar o relatorio de clasificação\n",
        "from sklearn.metrics import classification_report\n",
        "classification_report = classification_report(y_true,y_pred)\n",
        "print(classification_report)\n",
        "\n"
      ],
      "metadata": {
        "colab": {
          "base_uri": "https://localhost:8080/"
        },
        "id": "tbSSvrKKBuWm",
        "outputId": "0e5eddac-140b-49d5-844f-bef3dd60950d"
      },
      "execution_count": 14,
      "outputs": [
        {
          "output_type": "stream",
          "name": "stdout",
          "text": [
            "              precision    recall  f1-score   support\n",
            "\n",
            "           0       0.08      0.10      0.09        10\n",
            "           1       0.00      0.00      0.00         7\n",
            "           2       0.17      0.14      0.15         7\n",
            "           3       0.08      0.14      0.11         7\n",
            "           4       0.50      0.18      0.27        11\n",
            "           5       0.09      0.50      0.15         2\n",
            "           6       0.22      0.15      0.18        13\n",
            "           7       0.29      0.33      0.31         6\n",
            "           8       0.00      0.00      0.00        15\n",
            "           9       0.00      0.00      0.00         6\n",
            "          10       0.20      0.08      0.12        12\n",
            "          11       0.00      0.00      0.00         4\n",
            "\n",
            "    accuracy                           0.11       100\n",
            "   macro avg       0.14      0.14      0.11       100\n",
            "weighted avg       0.15      0.11      0.12       100\n",
            "\n"
          ]
        }
      ]
    }
  ]
}